{
 "cells": [
  {
   "cell_type": "code",
   "execution_count": 2,
   "metadata": {},
   "outputs": [],
   "source": [
    "import numpy\n",
    "from PIL import Image\n",
    "import io\n",
    "import requests\n",
    "import json\n",
    "import time\n",
    "import random"
   ]
  },
  {
   "cell_type": "code",
   "execution_count": 3,
   "metadata": {},
   "outputs": [],
   "source": [
    "#Init the needed functions for images\n",
    "def create_and_save_image(width = 64, height = 64 , name = 'random.png'):\n",
    "    imarray = numpy.random.rand(width,height,3) * 255\n",
    "    im = Image.fromarray(imarray.astype('uint8')).convert('RGBA')\n",
    "    im.save(name)\n",
    "\n",
    "def create_and_save_n_images(width=64 , height = 64, num = 100):\n",
    "    for n in range(num):\n",
    "        create_image(width, height, ('random'+str(n+1)+'.png'))\n",
    "        \n",
    "def create_bytearray(width=64,height=64):\n",
    "    imarray = numpy.random.rand(width,height,3)*255\n",
    "    casted = imarray.astype('uint8')\n",
    "    return casted\n",
    "\n",
    "def create_bytearray_with_color_prop(width = 64, height = 64, prop_red = 33, prop_green = 33, prop_blue = 33):\n",
    "    #Initalize array with zeros\n",
    "    imarray = numpy.random.rand(width, height, 3) * 0\n",
    "    red_pixel = prop_red/100*width*height\n",
    "    green_pixel = prop_green/100*width*height\n",
    "    blue_pixel = prop_blue/100*width*height\n",
    "    for x in range(height):\n",
    "        for y in range(width):\n",
    "            if(red_pixel > 0):\n",
    "                imarray[x,y] = [255,0,0]\n",
    "                red_pixel-= 1\n",
    "            elif(green_pixel > 0):\n",
    "                imarray[x,y] = [0,255,0]\n",
    "                green_pixel-= 1\n",
    "            elif(blue_pixel > 0):\n",
    "                imarray[x,y] = [0,0,255]\n",
    "                blue_pixel-= 1\n",
    "            else:\n",
    "                #Wrong proportion --> white pixel\n",
    "                imarray[x,y] = [255,255,255]\n",
    "    \n",
    "    numpy.random.shuffle(imarray)\n",
    "    for column in imarray:\n",
    "        numpy.random.shuffle(column)\n",
    "    casted = imarray.astype('uint8')\n",
    "    return casted\n",
    "\n",
    "def create_img_from_bytearray(bytearr, colorscheme='RGBA'):\n",
    "    im=Image.fromarray(bytearr).convert(colorscheme)\n",
    "    return im\n",
    "\n",
    "def img_to_bytearray(Image):\n",
    "    imgByteArr = io.BytesIO()\n",
    "    Image.save(imgByteArr, format='PNG')\n",
    "    imgByteArr = imgByteArr.getvalue()\n",
    "    return imgByteArr"
   ]
  },
  {
   "cell_type": "code",
   "execution_count": 4,
   "metadata": {
    "scrolled": false
   },
   "outputs": [
    {
     "data": {
      "image/png": "[encoded data removed]",
      "text/plain": [
       "<PIL.Image.Image image mode=RGBA size=64x64 at 0x2371BF96400>"
      ]
     },
     "execution_count": 4,
     "metadata": {},
     "output_type": "execute_result"
    }
   ],
   "source": [
    "#check\n",
    "img = create_img_from_bytearray(create_bytearray())\n",
    "img\n",
    "#img_to_bytearray(img)\n",
    "img_prop = create_img_from_bytearray(create_bytearray_with_color_prop(64,64,33,34,33))\n",
    "img_prop"
   ]
  },
  {
   "cell_type": "code",
   "execution_count": 5,
   "metadata": {},
   "outputs": [],
   "source": [
    "#load trasi infos\n",
    "url = 'https://phinau.de/trasi'\n",
    "access_key = 'ehiefoveingereim3ooD2vo8reeb9ooz'\n",
    "credentials = {'key': access_key}"
   ]
  },
  {
   "cell_type": "code",
   "execution_count": 6,
   "metadata": {},
   "outputs": [],
   "source": [
    "def send_img_bytearray(nipples):\n",
    "    file_to_upload = {'image': nipples}\n",
    "    post_request = requests.post(url, files=file_to_upload, data=credentials)\n",
    "    return post_request"
   ]
  },
  {
   "cell_type": "code",
   "execution_count": 7,
   "metadata": {},
   "outputs": [
    {
     "data": {
      "text/plain": [
       "200"
      ]
     },
     "execution_count": 7,
     "metadata": {},
     "output_type": "execute_result"
    }
   ],
   "source": [
    "#check\n",
    "img = create_img_from_bytearray(create_bytearray_with_color_prop(64,64,33,34,33))\n",
    "imgNipples = img_to_bytearray(img)\n",
    "send_img_bytearray(imgNipples).status_code"
   ]
  },
  {
   "cell_type": "code",
   "execution_count": 8,
   "metadata": {},
   "outputs": [],
   "source": [
    "def get_best_score(ResponseText):\n",
    "    scores = json.loads(ResponseText)\n",
    "    return scores[0].get('confidence')\n",
    "\n",
    "def save_results(bestScore,imgBytes):\n",
    "    #to be done, only mockup\n",
    "    print(str(bestScore))\n",
    "\n",
    "def full_loop():\n",
    "    img_bytes = img_to_bytearray(create_img_from_bytearray(create_bytearray_with_color_prop(64,64,33,34,33)))\n",
    "    response = send_img_bytearray(img_bytes)\n",
    "    if(response.status_code==200):\n",
    "        save_results(get_best_score(response.text),img_bytes)\n",
    "    else:\n",
    "        #throw errors? Show me something?\n",
    "        print('upsie, got a ', response.status_code)"
   ]
  },
  {
   "cell_type": "code",
   "execution_count": 9,
   "metadata": {},
   "outputs": [
    {
     "name": "stdout",
     "output_type": "stream",
     "text": [
      "0.68090391\n"
     ]
    }
   ],
   "source": [
    "#check\n",
    "full_loop()"
   ]
  },
  {
   "cell_type": "code",
   "execution_count": 10,
   "metadata": {},
   "outputs": [],
   "source": [
    "def execute_timed_full_loops(MaxLoops,Intervall):\n",
    "    i=0\n",
    "    while(i < MaxLoops):\n",
    "        full_loop()\n",
    "        time.sleep(Intervall)\n",
    "        i+=1;"
   ]
  },
  {
   "cell_type": "code",
   "execution_count": null,
   "metadata": {},
   "outputs": [
    {
     "name": "stdout",
     "output_type": "stream",
     "text": [
      "0.00045467\n",
      "0.00691228\n",
      "0.40274623\n",
      "0.38200197\n",
      "0.4611215\n",
      "0.1003754\n",
      "0.07390981\n",
      "0.03535941\n",
      "0.16190699\n",
      "0.13376345\n",
      "0.45957956\n",
      "0.2627309\n",
      "upsie, got a  429\n",
      "upsie, got a  429\n",
      "0.03177555\n",
      "0.15043446\n",
      "0.14534669\n",
      "0.02291779\n",
      "0.05954062\n",
      "0.15111887\n",
      "0.16461003\n",
      "0.00404368\n",
      "0.02118179\n",
      "0.09992865\n",
      "0.01180088\n",
      "0.02361382\n",
      "0.11274069\n",
      "0.30492097\n",
      "0.95593458\n",
      "0.01462378\n",
      "0.0111654\n",
      "0.4046028\n",
      "0.83834934\n",
      "0.14178061\n",
      "0.14694647\n",
      "0.09978047\n",
      "0.46310541\n",
      "0.00393375\n",
      "0.1781057\n",
      "0.03093681\n",
      "0.00674851\n",
      "0.01692746\n",
      "0.01391323\n",
      "upsie, got a  429\n",
      "upsie, got a  429\n",
      "upsie, got a  429\n",
      "upsie, got a  429\n",
      "upsie, got a  429\n",
      "upsie, got a  429\n",
      "upsie, got a  429\n",
      "upsie, got a  429\n",
      "upsie, got a  429\n",
      "upsie, got a  429\n",
      "upsie, got a  429\n"
     ]
    }
   ],
   "source": [
    "execute_timed_full_loops(100, 1.2)"
   ]
  },
  {
   "cell_type": "code",
   "execution_count": null,
   "metadata": {},
   "outputs": [],
   "source": []
  }
 ],
 "metadata": {
  "kernelspec": {
   "display_name": "Python 3",
   "language": "python",
   "name": "python3"
  },
  "language_info": {
   "codemirror_mode": {
    "name": "ipython",
    "version": 3
   },
   "file_extension": ".py",
   "mimetype": "text/x-python",
   "name": "python",
   "nbconvert_exporter": "python",
   "pygments_lexer": "ipython3",
   "version": "3.7.0"
  }
 },
 "nbformat": 4,
 "nbformat_minor": 2
}
