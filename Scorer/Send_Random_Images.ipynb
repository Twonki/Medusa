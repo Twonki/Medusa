{
 "cells": [
  {
   "cell_type": "code",
   "execution_count": 232,
   "metadata": {},
   "outputs": [],
   "source": [
    "import numpy\n",
    "from PIL import Image\n",
    "from PIL import ImageEnhance\n",
    "import io\n",
    "import requests\n",
    "import json\n",
    "import time\n",
    "import random"
   ]
  },
  {
   "cell_type": "code",
   "execution_count": 299,
   "metadata": {},
   "outputs": [],
   "source": [
    "#Init the needed functions for images\n",
    "def create_and_save_image(width = 64, height = 64 , name = 'random.png'):\n",
    "    imarray = numpy.random.rand(width,height,3) * 255\n",
    "    im = Image.fromarray(imarray.astype('uint8')).convert('RGBA')\n",
    "    im.save(name)\n",
    "\n",
    "def create_and_save_n_images(width=64 , height = 64, num = 100):\n",
    "    for n in range(num):\n",
    "        create_image(width, height, ('random'+str(n+1)+'.png'))\n",
    "        \n",
    "def create_bytearray(width=64,height=64):\n",
    "    imarray = numpy.random.rand(width,height,3)*255\n",
    "    casted = imarray.astype('uint8')\n",
    "    return casted\n",
    "\n",
    "def create_bytearray_with_color_prop(width = 64, height = 64, prop_red = 33, prop_green = 33, prop_blue = 33):\n",
    "    #Initalize array with zeros\n",
    "    imarray = numpy.random.rand(width * height, 3) * 0\n",
    "    red_pixel = prop_red/100*width*height\n",
    "    green_pixel = prop_green/100*width*height\n",
    "    blue_pixel = prop_blue/100*width*height\n",
    "    for x in range(height):\n",
    "        for y in range(width):\n",
    "            if(red_pixel > 0):\n",
    "                imarray[x*width+y] = [255,0,0]\n",
    "                red_pixel-= 1\n",
    "            elif(green_pixel > 0):\n",
    "                imarray[x*width+y] = [0,255,0]\n",
    "                green_pixel-= 1\n",
    "            elif(blue_pixel > 0):\n",
    "                imarray[x*width+y] = [0,0,255]\n",
    "                blue_pixel-= 1\n",
    "            else:\n",
    "                #Wrong proportion --> white pixel\n",
    "                imarray[x*width+y] = [255,255,255]\n",
    "    \n",
    "    numpy.random.shuffle(imarray)\n",
    "    immatrix = numpy.random.rand(height, width, 3) * 0\n",
    "    for x in range(height):\n",
    "        for y in range(width):\n",
    "            immatrix[x,y] = imarray[x*width+y]\n",
    "    casted = immatrix.astype('uint8')\n",
    "    return casted\n",
    "\n",
    "def change_brigthness_of_img(image, brightnessFactor=1.0):\n",
    "    changedImage = ImageEnhance.Brightness(image).enhance(brightnessFactor)\n",
    "    return changedImage\n",
    "\n",
    "def create_img_from_bytearray(bytearr, colorscheme='RGBA'):\n",
    "    im=Image.fromarray(bytearr).convert(colorscheme)\n",
    "    return im\n",
    "\n",
    "def img_to_bytearray(Image):\n",
    "    imgByteArr = io.BytesIO()\n",
    "    Image.save(imgByteArr, format='PNG')\n",
    "    imgByteArr = imgByteArr.getvalue()\n",
    "    return imgByteArr"
   ]
  },
  {
   "cell_type": "code",
   "execution_count": 228,
   "metadata": {},
   "outputs": [
    {
     "data": {
      "image/png": "[encoded data removed]",
      "text/plain": [
       "<PIL.Image.Image image mode=RGBA size=64x32 at 0x2371DBFA6A0>"
      ]
     },
     "execution_count": 228,
     "metadata": {},
     "output_type": "execute_result"
    }
   ],
   "source": [
    "#check\n",
    "img = create_img_from_bytearray(create_bytearray())\n",
    "img\n",
    "#img_to_bytearray(img)\n",
    "img_prop = create_img_from_bytearray(create_bytearray_with_color_prop(64,64,10,10,10))\n",
    "img_prop"
   ]
  },
  {
   "cell_type": "code",
   "execution_count": 41,
   "metadata": {},
   "outputs": [],
   "source": [
    "#load trasi infos\n",
    "url = 'https://phinau.de/trasi'\n",
    "access_key = 'ehiefoveingereim3ooD2vo8reeb9ooz'\n",
    "credentials = {'key': access_key}"
   ]
  },
  {
   "cell_type": "code",
   "execution_count": 42,
   "metadata": {},
   "outputs": [],
   "source": [
    "def send_img_bytearray(nipples):\n",
    "    file_to_upload = {'image': nipples}\n",
    "    post_request = requests.post(url, files=file_to_upload, data=credentials)\n",
    "    return post_request"
   ]
  },
  {
   "cell_type": "code",
   "execution_count": 43,
   "metadata": {},
   "outputs": [
    {
     "data": {
      "text/plain": [
       "200"
      ]
     },
     "execution_count": 43,
     "metadata": {},
     "output_type": "execute_result"
    }
   ],
   "source": [
    "#check\n",
    "img = create_img_from_bytearray(create_bytearray_with_color_prop(64,64,33,34,33))\n",
    "imgNipples = img_to_bytearray(img)\n",
    "send_img_bytearray(imgNipples).status_code"
   ]
  },
  {
   "cell_type": "code",
   "execution_count": 44,
   "metadata": {},
   "outputs": [],
   "source": [
    "def get_best_score(ResponseText):\n",
    "    scores = json.loads(ResponseText)\n",
    "    return scores[0].get('confidence')\n",
    "\n",
    "def save_results(bestScore,imgBytes):\n",
    "    #to be done, only mockup\n",
    "    print(str(bestScore))\n",
    "\n",
    "def full_loop():\n",
    "    img_bytes = img_to_bytearray(create_img_from_bytearray(create_bytearray_with_color_prop(64,64,33,34,33)))\n",
    "    response = send_img_bytearray(img_bytes)\n",
    "    if(response.status_code==200):\n",
    "        save_results(get_best_score(response.text),img_bytes)\n",
    "    else:\n",
    "        #throw errors? Show me something?\n",
    "        print('upsie, got a ', response.status_code)"
   ]
  },
  {
   "cell_type": "code",
   "execution_count": 45,
   "metadata": {},
   "outputs": [
    {
     "name": "stdout",
     "output_type": "stream",
     "text": [
      "0.06486148\n"
     ]
    }
   ],
   "source": [
    "#check\n",
    "full_loop()"
   ]
  },
  {
   "cell_type": "code",
   "execution_count": 46,
   "metadata": {},
   "outputs": [],
   "source": [
    "def execute_timed_full_loops(MaxLoops,Intervall):\n",
    "    i=0\n",
    "    while(i < MaxLoops):\n",
    "        full_loop()\n",
    "        time.sleep(Intervall)\n",
    "        i+=1;"
   ]
  },
  {
   "cell_type": "code",
   "execution_count": 47,
   "metadata": {},
   "outputs": [
    {
     "name": "stdout",
     "output_type": "stream",
     "text": [
      "0.06435749\n",
      "0.03675679\n",
      "0.28713992\n",
      "0.03839546\n",
      "0.11988598\n",
      "0.04251778\n",
      "0.0512211\n",
      "0.03447698\n",
      "0.03708566\n",
      "0.06971627\n",
      "0.17820382\n",
      "0.06345703\n",
      "0.07307086\n",
      "0.08267825\n",
      "0.06212886\n",
      "0.12474114\n",
      "0.05012225\n",
      "0.05221188\n",
      "0.0354337\n",
      "0.04777095\n",
      "0.09702125\n",
      "0.06689063\n",
      "0.04985614\n",
      "upsie, got a  429\n",
      "upsie, got a  429\n",
      "upsie, got a  429\n",
      "upsie, got a  429\n",
      "upsie, got a  429\n",
      "upsie, got a  429\n",
      "upsie, got a  429\n",
      "upsie, got a  429\n",
      "0.03230657\n",
      "0.04567876\n",
      "0.14951709\n",
      "0.0345304\n",
      "0.14102967\n",
      "0.13736707\n",
      "0.0552615\n",
      "0.06027372\n",
      "0.17961942\n",
      "0.21809681\n",
      "0.04172143\n",
      "0.06452376\n",
      "0.09742725\n",
      "0.04254963\n",
      "0.41594175\n",
      "0.04304217\n",
      "0.18340327\n",
      "0.05360566\n",
      "0.08667281\n",
      "0.35973746\n",
      "0.16064399\n",
      "0.18852235\n",
      "0.0541073\n",
      "0.0419496\n",
      "0.05831162\n",
      "0.10853366\n",
      "0.07918268\n",
      "upsie, got a  429\n",
      "upsie, got a  429\n",
      "upsie, got a  429\n",
      "upsie, got a  429\n",
      "upsie, got a  429\n",
      "upsie, got a  429\n",
      "upsie, got a  429\n",
      "upsie, got a  429\n",
      "upsie, got a  429\n",
      "upsie, got a  429\n",
      "upsie, got a  429\n",
      "upsie, got a  429\n",
      "0.04786576\n",
      "0.04615944\n",
      "0.03229148\n",
      "0.16478783\n",
      "0.03603364\n",
      "0.08545029\n",
      "0.74798149\n",
      "0.06187034\n",
      "0.07740755\n",
      "0.11205289\n",
      "0.07841253\n",
      "0.05816396\n",
      "0.06823916\n",
      "0.06306472\n",
      "0.11558468\n",
      "0.03865689\n",
      "0.07233707\n",
      "0.03695077\n",
      "0.12201594\n",
      "0.04082407\n",
      "0.06011012\n",
      "0.07357232\n",
      "0.05923998\n",
      "0.05435959\n",
      "upsie, got a  429\n",
      "upsie, got a  429\n",
      "upsie, got a  429\n",
      "upsie, got a  429\n",
      "upsie, got a  429\n",
      "upsie, got a  429\n"
     ]
    }
   ],
   "source": [
    "execute_timed_full_loops(100, 1.2)"
   ]
  },
  {
   "cell_type": "code",
   "execution_count": null,
   "metadata": {},
   "outputs": [],
   "source": []
  }
 ],
 "metadata": {
  "kernelspec": {
   "display_name": "Python 3",
   "language": "python",
   "name": "python3"
  },
  "language_info": {
   "codemirror_mode": {
    "name": "ipython",
    "version": 3
   },
   "file_extension": ".py",
   "mimetype": "text/x-python",
   "name": "python",
   "nbconvert_exporter": "python",
   "pygments_lexer": "ipython3",
   "version": "3.7.0"
  }
 },
 "nbformat": 4,
 "nbformat_minor": 2
}
