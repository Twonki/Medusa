{
 "cells": [
  {
   "cell_type": "code",
   "execution_count": 1,
   "metadata": {},
   "outputs": [],
   "source": [
    "import numpy\n",
    "from PIL import Image\n",
    "from PIL import ImageEnhance\n",
    "import io\n",
    "import requests\n",
    "import json\n",
    "import time\n",
    "import random"
   ]
  },
  {
   "cell_type": "code",
   "execution_count": 71,
   "metadata": {},
   "outputs": [],
   "source": [
    "#Init the needed functions for images\n",
    "def create_and_save_image(width = 64, height = 64 , name = 'random.png'):\n",
    "    imarray = numpy.random.rand(width,height,3) * 255\n",
    "    im = Image.fromarray(imarray.astype('uint8')).convert('RGBA')\n",
    "    im.save(name)\n",
    "\n",
    "def create_and_save_n_images(width=64 , height = 64, num = 100):\n",
    "    for n in range(num):\n",
    "        create_image(width, height, ('random'+str(n+1)+'.png'))\n",
    "        \n",
    "def create_bytearray(width=64,height=64):\n",
    "    imarray = numpy.random.rand(width,height,3)*255\n",
    "    casted = imarray.astype('uint8')\n",
    "    return casted\n",
    "\n",
    "def create_bytearray_with_color_prop(width = 64, height = 64, prop_red = 33, prop_green = 33, prop_blue = 33):\n",
    "    #Initalize array with zeros\n",
    "    imarray = numpy.random.rand(width * height, 3) * 0\n",
    "    red_pixel = prop_red/100*width*height\n",
    "    green_pixel = prop_green/100*width*height\n",
    "    blue_pixel = prop_blue/100*width*height\n",
    "    for x in range(height):\n",
    "        for y in range(width):\n",
    "            if(red_pixel > 0):\n",
    "                imarray[x*width+y] = [random.random() * 255,0,0]\n",
    "                red_pixel-= 1\n",
    "            elif(green_pixel > 0):\n",
    "                imarray[x*width+y] = [0,random.random() * 255,0]\n",
    "                green_pixel-= 1\n",
    "            elif(blue_pixel > 0):\n",
    "                imarray[x*width+y] = [0,0,random.random() * 255]\n",
    "                blue_pixel-= 1\n",
    "            else:\n",
    "                #Wrong proportion --> white pixel\n",
    "                imarray[x*width+y] = [255,255,255]\n",
    "    \n",
    "    numpy.random.shuffle(imarray)\n",
    "    immatrix = numpy.random.rand(height, width, 3) * 0\n",
    "    for x in range(height):\n",
    "        for y in range(width):\n",
    "            immatrix[x,y] = imarray[x*width+y]\n",
    "    casted = immatrix.astype('uint8')\n",
    "    return casted\n",
    "\n",
    "def change_brigthness_of_img(image, brightnessFactor=1.0):\n",
    "    changedImage = ImageEnhance.Brightness(image).enhance(brightnessFactor)\n",
    "    return changedImage\n",
    "\n",
    "def change_contrast_of_img(image, contrastFactor=1.0):\n",
    "    changedImage = ImageEnhance.Contrast(image).enhance(contrastFactor)\n",
    "    return changedImage\n",
    "\n",
    "def create_img_from_bytearray(bytearr, colorscheme='RGBA'):\n",
    "    im=Image.fromarray(bytearr).convert(colorscheme)\n",
    "    return im\n",
    "\n",
    "def img_to_bytearray(Image):\n",
    "    imgByteArr = io.BytesIO()\n",
    "    Image.save(imgByteArr, format='PNG')\n",
    "    imgByteArr = imgByteArr.getvalue()\n",
    "    return imgByteArr"
   ]
  },
  {
   "cell_type": "code",
   "execution_count": 93,
   "metadata": {},
   "outputs": [
    {
     "name": "stdout",
     "output_type": "stream",
     "text": [
      "2.601776374786005\n"
     ]
    },
    {
     "data": {
      "image/png": "[encoded data removed]",
      "text/plain": [
       "<PIL.Image.Image image mode=RGBA size=64x64 at 0x1C38C85B4A8>"
      ]
     },
     "execution_count": 93,
     "metadata": {},
     "output_type": "execute_result"
    }
   ],
   "source": [
    "#check\n",
    "img = create_img_from_bytearray(create_bytearray())\n",
    "img\n",
    "print(random.random() * 255)\n",
    "#img_to_bytearray(img)\n",
    "img_prop = create_img_from_bytearray(create_bytearray_with_color_prop(64,64,33,34,33))\n",
    "img_prop = change_contrast_of_img(img_prop, 0.75)\n",
    "img_prop"
   ]
  },
  {
   "cell_type": "code",
   "execution_count": 94,
   "metadata": {},
   "outputs": [],
   "source": [
    "#load trasi infos\n",
    "url = 'https://phinau.de/trasi'\n",
    "access_key = 'ehiefoveingereim3ooD2vo8reeb9ooz'\n",
    "credentials = {'key': access_key}"
   ]
  },
  {
   "cell_type": "code",
   "execution_count": 95,
   "metadata": {},
   "outputs": [],
   "source": [
    "def send_img_bytearray(nipples):\n",
    "    file_to_upload = {'image': nipples}\n",
    "    post_request = requests.post(url, files=file_to_upload, data=credentials)\n",
    "    return post_request"
   ]
  },
  {
   "cell_type": "code",
   "execution_count": 96,
   "metadata": {},
   "outputs": [
    {
     "data": {
      "text/plain": [
       "200"
      ]
     },
     "execution_count": 96,
     "metadata": {},
     "output_type": "execute_result"
    }
   ],
   "source": [
    "#check\n",
    "img = create_img_from_bytearray(create_bytearray_with_color_prop(64,64,33,34,33))\n",
    "imgNipples = img_to_bytearray(img)\n",
    "send_img_bytearray(imgNipples).status_code"
   ]
  },
  {
   "cell_type": "code",
   "execution_count": 97,
   "metadata": {},
   "outputs": [],
   "source": [
    "def get_best_score(ResponseText):\n",
    "    scores = json.loads(ResponseText)\n",
    "    return scores[0].get('confidence')\n",
    "\n",
    "def save_results(bestScore,imgBytes):\n",
    "    #to be done, only mockup\n",
    "    print(str(bestScore))\n",
    "\n",
    "def full_loop():\n",
    "    img_bytes = img_to_bytearray(create_img_from_bytearray(create_bytearray_with_color_prop(64,64,33,34,33)))\n",
    "    response = send_img_bytearray(img_bytes)\n",
    "    if(response.status_code==200):\n",
    "        save_results(get_best_score(response.text),img_bytes)\n",
    "    else:\n",
    "        #throw errors? Show me something?\n",
    "        print('upsie, got a ', response.status_code)"
   ]
  },
  {
   "cell_type": "code",
   "execution_count": 98,
   "metadata": {},
   "outputs": [
    {
     "name": "stdout",
     "output_type": "stream",
     "text": [
      "0.06320946\n"
     ]
    }
   ],
   "source": [
    "#check\n",
    "full_loop()"
   ]
  },
  {
   "cell_type": "code",
   "execution_count": 99,
   "metadata": {},
   "outputs": [],
   "source": [
    "def execute_timed_full_loops(MaxLoops,Intervall):\n",
    "    i=0\n",
    "    while(i < MaxLoops):\n",
    "        full_loop()\n",
    "        time.sleep(Intervall)\n",
    "        i+=1;"
   ]
  },
  {
   "cell_type": "code",
   "execution_count": null,
   "metadata": {},
   "outputs": [],
   "source": [
    "execute_timed_full_loops(100, 1.2)"
   ]
  },
  {
   "cell_type": "code",
   "execution_count": null,
   "metadata": {},
   "outputs": [],
   "source": []
  }
 ],
 "metadata": {
  "kernelspec": {
   "display_name": "Python 3",
   "language": "python",
   "name": "python3"
  },
  "language_info": {
   "codemirror_mode": {
    "name": "ipython",
    "version": 3
   },
   "file_extension": ".py",
   "mimetype": "text/x-python",
   "name": "python",
   "nbconvert_exporter": "python",
   "pygments_lexer": "ipython3",
   "version": "3.7.0"
  }
 },
 "nbformat": 4,
 "nbformat_minor": 2
}
