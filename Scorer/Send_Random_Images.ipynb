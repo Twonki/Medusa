{
 "cells": [
  {
   "cell_type": "code",
   "execution_count": 1,
   "metadata": {},
   "outputs": [],
   "source": [
    "import numpy\n",
    "from PIL import Image\n",
    "import io\n",
    "import requests\n",
    "import json\n",
    "import time"
   ]
  },
  {
   "cell_type": "code",
   "execution_count": 2,
   "metadata": {},
   "outputs": [],
   "source": [
    "#Init the needed functions for images\n",
    "def create_and_save_image(width = 64, height = 64 , name = 'random.png'):\n",
    "    imarray = numpy.random.rand(width,height,3) * 255\n",
    "    im = Image.fromarray(imarray.astype('uint8')).convert('RGBA')\n",
    "    im.save(name)\n",
    "\n",
    "def create_and_save_n_images(width=64 , height = 64, num = 100):\n",
    "    for n in range(num):\n",
    "        create_image(width, height, ('random'+str(n+1)+'.png'))\n",
    "        \n",
    "def create_bytearray(width=64,height=64):\n",
    "    imarray = numpy.random.rand(width,height,3)*255\n",
    "    casted = imarray.astype('uint8')\n",
    "    return casted\n",
    "\n",
    "def create_img_from_bytearray(bytearr, colorscheme='RGBA'):\n",
    "    im=Image.fromarray(bytearr).convert(colorscheme)\n",
    "    return im\n",
    "\n",
    "def img_to_bytearray(Image):\n",
    "    imgByteArr = io.BytesIO()\n",
    "    Image.save(imgByteArr, format='PNG')\n",
    "    imgByteArr = imgByteArr.getvalue()\n",
    "    return imgByteArr"
   ]
  },
  {
   "cell_type": "code",
   "execution_count": 16,
   "metadata": {
    "scrolled": false
   },
   "outputs": [
    {
     "data": {
      "image/png": "[encoded data removed]",
      "text/plain": [
       "<PIL.Image.Image image mode=RGBA size=64x64 at 0x2A57838DE80>"
      ]
     },
     "execution_count": 16,
     "metadata": {},
     "output_type": "execute_result"
    }
   ],
   "source": [
    "#check\n",
    "img = create_img_from_bytearray(create_bytearray())\n",
    "img\n",
    "#img_to_bytearray(img)"
   ]
  },
  {
   "cell_type": "code",
   "execution_count": 17,
   "metadata": {},
   "outputs": [],
   "source": [
    "#load trasi infos\n",
    "url = 'https://phinau.de/trasi'\n",
    "access_key = 'ehiefoveingereim3ooD2vo8reeb9ooz'\n",
    "credentials = {'key': access_key}"
   ]
  },
  {
   "cell_type": "code",
   "execution_count": 18,
   "metadata": {},
   "outputs": [],
   "source": [
    "def send_img_bytearray(nipples):\n",
    "    file_to_upload = {'image': nipples}\n",
    "    post_request = requests.post(url, files=file_to_upload, data=credentials)\n",
    "    return post_request"
   ]
  },
  {
   "cell_type": "code",
   "execution_count": 19,
   "metadata": {},
   "outputs": [
    {
     "data": {
      "text/plain": [
       "200"
      ]
     },
     "execution_count": 19,
     "metadata": {},
     "output_type": "execute_result"
    }
   ],
   "source": [
    "#check\n",
    "img = create_img_from_bytearray(create_bytearray())\n",
    "imgNipples = img_to_bytearray(img)\n",
    "send_img_bytearray(imgNipples).status_code"
   ]
  },
  {
   "cell_type": "code",
   "execution_count": 109,
   "metadata": {},
   "outputs": [],
   "source": [
    "def get_best_score(ResponseText):\n",
    "    scores = json.loads(ResponseText)\n",
    "    return scores[1].get('confidence')\n",
    "\n",
    "def save_results(bestScore,imgBytes):\n",
    "    #to be done, only mockup\n",
    "    print(str(bestScore))\n",
    "\n",
    "def full_loop():\n",
    "    img_bytes = img_to_bytearray(create_img_from_bytearray(create_bytearray()))\n",
    "    response = send_img_bytearray(img_bytes)\n",
    "    if(response.status_code==200):\n",
    "        save_results(get_best_score(response.text),img_bytes)\n",
    "    else:\n",
    "        #throw errors? Show me something?\n",
    "        print('upsie, got a', response.status_code)"
   ]
  },
  {
   "cell_type": "code",
   "execution_count": 108,
   "metadata": {},
   "outputs": [
    {
     "name": "stdout",
     "output_type": "stream",
     "text": [
      "upsie, got a  429\n"
     ]
    }
   ],
   "source": [
    "#check\n",
    "full_loop()"
   ]
  },
  {
   "cell_type": "code",
   "execution_count": 24,
   "metadata": {},
   "outputs": [],
   "source": [
    "def execute_timed_full_loops(MaxLoops,Intervall):\n",
    "    i=0\n",
    "    while(i < MaxLoops):\n",
    "        full_loop()\n",
    "        time.sleep(Intervall)\n",
    "        i+=1;"
   ]
  },
  {
   "cell_type": "code",
   "execution_count": 25,
   "metadata": {},
   "outputs": [
    {
     "name": "stdout",
     "output_type": "stream",
     "text": [
      "0.0272684\n",
      "0.04913398\n",
      "0.03659275\n",
      "0.0301218\n",
      "0.04195277\n",
      "0.08474978\n",
      "0.05462436\n",
      "0.04244211\n",
      "0.03251434\n",
      "0.02977639\n",
      "0.03324927\n",
      "0.05104889\n",
      "0.12078306\n",
      "0.04352025\n",
      "0.03867671\n",
      "0.05730857\n",
      "0.03063321\n",
      "0.0317857\n",
      "0.06680231\n",
      "0.04553395\n",
      "0.03497687\n",
      "0.03448397\n",
      "0.05660112\n",
      "0.04291356\n",
      "0.05829026\n",
      "0.04797675\n",
      "0.02895487\n",
      "0.02744791\n",
      "0.02753464\n",
      "0.05264909\n",
      "0.04260402\n",
      "0.02465517\n",
      "upsie\n",
      "upsie\n",
      "upsie\n",
      "upsie\n",
      "upsie\n",
      "upsie\n",
      "upsie\n",
      "upsie\n",
      "upsie\n",
      "upsie\n",
      "upsie\n",
      "upsie\n",
      "upsie\n",
      "upsie\n",
      "0.0333188\n",
      "0.04190527\n",
      "0.03480385\n",
      "0.04698022\n",
      "0.04767678\n",
      "0.02792701\n",
      "0.02442518\n",
      "0.03805996\n",
      "0.04236225\n",
      "0.0302848\n",
      "0.03612739\n",
      "0.03157206\n",
      "0.03029492\n",
      "0.04490431\n",
      "0.0305337\n",
      "0.05061467\n",
      "0.03895809\n",
      "0.03170564\n",
      "0.03103692\n",
      "0.04058983\n",
      "0.02995284\n",
      "0.06653042\n",
      "0.03957945\n",
      "0.05776243\n",
      "0.07351096\n",
      "0.04878961\n",
      "0.03556952\n",
      "0.04014622\n",
      "0.02697845\n",
      "upsie\n",
      "upsie\n",
      "upsie\n",
      "upsie\n",
      "upsie\n",
      "upsie\n",
      "upsie\n",
      "upsie\n",
      "upsie\n",
      "upsie\n",
      "upsie\n",
      "upsie\n",
      "upsie\n",
      "0.09599514\n",
      "0.0300445\n",
      "0.02071582\n",
      "0.02144536\n",
      "0.03762097\n",
      "0.0298155\n",
      "0.02985881\n",
      "0.03633314\n",
      "0.04681331\n",
      "0.01472436\n",
      "0.05358992\n",
      "0.02523691\n"
     ]
    }
   ],
   "source": [
    "execute_timed_full_loops(100, 1.2)"
   ]
  },
  {
   "cell_type": "code",
   "execution_count": null,
   "metadata": {},
   "outputs": [],
   "source": []
  }
 ],
 "metadata": {
  "kernelspec": {
   "display_name": "Python 3",
   "language": "python",
   "name": "python3"
  },
  "language_info": {
   "codemirror_mode": {
    "name": "ipython",
    "version": 3
   },
   "file_extension": ".py",
   "mimetype": "text/x-python",
   "name": "python",
   "nbconvert_exporter": "python",
   "pygments_lexer": "ipython3",
   "version": "3.7.0"
  }
 },
 "nbformat": 4,
 "nbformat_minor": 2
}
