{
 "cells": [
  {
   "cell_type": "code",
   "execution_count": 1,
   "metadata": {},
   "outputs": [
    {
     "name": "stderr",
     "output_type": "stream",
     "text": [
      "/var/anaconda3/lib/python3.6/site-packages/h5py/__init__.py:36: FutureWarning: Conversion of the second argument of issubdtype from `float` to `np.floating` is deprecated. In future, it will be treated as `np.float64 == np.dtype(float).type`.\n",
      "  from ._conv import register_converters as _register_converters\n",
      "Using TensorFlow backend.\n"
     ]
    }
   ],
   "source": [
    "import requests\n",
    "import json\n",
    "\n",
    "import matplotlib.pyplot as plt\n",
    "import matplotlib.image as mpimg\n",
    "\n",
    "from scipy import misc as scipyMisc\n",
    "\n",
    "import os\n",
    "\n",
    "import PIL.Image\n",
    "from keras.models import load_model\n",
    "import numpy as np\n",
    "from skimage.transform import resize\n",
    "import datetime\n",
    "import time\n"
   ]
  },
  {
   "cell_type": "code",
   "execution_count": 2,
   "metadata": {},
   "outputs": [],
   "source": [
    "# URL for GET- or POST-Request\n",
    "url = 'https://phinau.de/trasi'\n",
    "\n",
    "# API-Key\n",
    "access_key = 'ehiefoveingereim3ooD2vo8reeb9ooz'\n",
    "\n",
    "# Key-Value pair: API-Key\n",
    "credentials = {'key': access_key}\n"
   ]
  },
  {
   "cell_type": "code",
   "execution_count": 3,
   "metadata": {},
   "outputs": [],
   "source": [
    "#####################################################################\n",
    "def load_ppm_image(path):\n",
    "    i = mpimg.imread(path)\n",
    "    a = scipyMisc.imresize(i, (64,64,3), interp='bicubic', mode=None)\n",
    "    return a\n",
    "\n",
    "#parsed = load_ppm_image(filename)\n",
    "#plt.imshow(parsed)\n",
    "#plt.show()\n",
    "#####################################################################"
   ]
  },
  {
   "cell_type": "code",
   "execution_count": 4,
   "metadata": {},
   "outputs": [],
   "source": [
    "def initialize_model(filepath):\n",
    "    model = load_model(filepath)\n",
    "    #model.summary()\n",
    "    return model\n",
    "\n",
    "\n",
    "def load_image(file_path):\n",
    "    im = PIL.Image.open(file_path)\n",
    "    im = np.asarray(im)\n",
    "    return im - 127.5\n",
    "\n",
    "\n",
    "def predict_single_image_from_model(model, image_filepath, shape):\n",
    "    loaded_png_image = load_image(image_filepath)\n",
    "    resized_png_image = resize(loaded_png_image, (shape, shape))\n",
    "    x = np.expand_dims(resized_png_image, axis=0)\n",
    "    preds = model.predict(x)\n",
    "    label = np.argmax(preds)\n",
    "    image_score = predict_single_image(model, resized_png_image)[0]\n",
    "    image_label_score = image_score[label]\n",
    "    return image_label_score\n",
    "\n",
    "\n",
    "def predict_single_image(model,img):\n",
    "    imgArr = (np.expand_dims(img,0))\n",
    "    imgArr = imgArr/255\n",
    "    return model.predict(imgArr)[0],img"
   ]
  },
  {
   "cell_type": "code",
   "execution_count": 5,
   "metadata": {},
   "outputs": [],
   "source": [
    "def submit_single_image(filepath):\n",
    "\n",
    "    filename = filepath\n",
    "    file_to_upload = {'image': open(filename,'rb')}\n",
    "\n",
    "    pimg_bytes = open(filename,'rb')\n",
    "    file_to_upload = {'image': pimg_bytes}\n",
    "\n",
    "    post_request = requests.post(url, files=file_to_upload, data=credentials)\n",
    "\n",
    "    if post_request.status_code == 200:\n",
    "        post = post_request.text\n",
    "        # post_request.text # For Debugging\n",
    "\n",
    "        trasi_score = json.loads(post)\n",
    "\n",
    "        _class = trasi_score[0].get('class')\n",
    "        _confidence = trasi_score[0].get('confidence')\n",
    "        trasi_resp = \"Filename:\" + filename + \";Class:\" + str(_class) + \";Confidence:\" + str(_confidence) + \"\\n\"\n",
    "        print(trasi_resp)\n",
    "\n",
    "    else:\n",
    "        print(\"HTTP-Statuscode: \" + post_request.status_code)\n",
    "    \n",
    "    return trasi_score\n",
    "\n",
    "\n",
    "def submit_images_from_directory(input_folder, model_filepath, shape, min_confidence):\n",
    "   \n",
    "    with open(\"######Trasi-Submission-results_\" + method + \"_\" + underlying_model + \".txt\", \"a\") as myfile:\n",
    "        myfile.write(\"DateTime;Filename;Trasi-Class;Trasi-Confidence\" + \"\\n\")\n",
    "            \n",
    "    with open(\"######Trasi-Submission-results-greater-than-\" + str(min_confidence) + \"_\" + method + \"_\" + underlying_model + \".txt\", \"a\") as myfile:\n",
    "        myfile.write(\"DateTime;Filename;Trasi-Class;Trasi-Confidence\" + \"\\n\")\n",
    "        \n",
    "    #with open(\"######Trasi-And-Local-results_\" + method + \"_\" + underlying_model + \".txt\", \"a\") as myfile:\n",
    "    #    myfile.write(\"DateTime;Filename;Trasi-Class;Trasi-Confidence;Local-Confidence\" + \"\\n\")\n",
    "\n",
    "    counter = 0\n",
    "        \n",
    "    for file in os.listdir(input_folder):\n",
    "        \n",
    "        if counter % 60 == 0:\n",
    "            print(\"Time to sleep for 61 sec...\")\n",
    "            time.sleep(61)\n",
    "            \n",
    "        filename = os.path.join(input_folder, file)\n",
    "\n",
    "        file_to_upload = {'image': open(filename,'rb')}\n",
    "        \n",
    "        post_request = requests.post(url, files=file_to_upload, data=credentials)\n",
    "\n",
    "        if post_request.status_code == 200:\n",
    "            post = post_request.text\n",
    "            # post_request.text # For Debugging\n",
    "\n",
    "            trasi_score = json.loads(post)\n",
    "\n",
    "            _class = trasi_score[0].get('class')\n",
    "            _confidence = trasi_score[0].get('confidence')\n",
    "            trasi_resp = filename + \";\" + str(_class) + \";\" + str(_confidence)\n",
    "            #print(trasi_resp) For Debugging\n",
    "            \n",
    "            with open(\"######Trasi-Submission-results_\" + method + \"_\" + underlying_model + \".txt\", \"a\") as myfile:\n",
    "                myfile.write(str(datetime.datetime.now()) + \";\" + trasi_resp + \"\\n\")\n",
    "            \n",
    "            if _confidence >= 0.90:\n",
    "                with open(\"######Trasi-Submission-results-greater-than-\" + str(min_confidence) + \"_\" + method + \"_\" + underlying_model + \".txt\", \"a\") as myfile:\n",
    "                    myfile.write(str(datetime.datetime.now()) + \";\" + trasi_resp + \"\\n\")\n",
    "\n",
    "            #initialized_model = initialize_model(model_filepath)\n",
    "            #local_prediction = predict_single_image_from_model(initialized_model, filename, shape)\n",
    "            \n",
    "            #with open(\"######Trasi-And-Local-results_\" + method + \"_\" + underlying_model + \".txt\", \"a\") as myfile:\n",
    "            #    myfile.write(str(datetime.datetime.now()) + \";\" + trasi_resp + \";\" + str(local_prediction))\n",
    "   \n",
    "        else:\n",
    "            print(\"HTTP-Statuscode: \" + str(post_request.status_code))\n",
    "        \n",
    "        counter += 1\n",
    "        print(\"Submitted file: \" + str(counter) + \"/\" + str(len(os.listdir(input_folder))))\n",
    "        \n",
    "    print(\"\\nEND of Submission.\")\n",
    "\n",
    "    return trasi_score\n"
   ]
  },
  {
   "cell_type": "code",
   "execution_count": 6,
   "metadata": {},
   "outputs": [],
   "source": [
    "#filepath = '../pytorch-alexnet-gtsrb/generated/Target_Confidence_100/ga_fooling_class_1.png'\n",
    "#result = submit_single_image(filepath)"
   ]
  },
  {
   "cell_type": "code",
   "execution_count": 8,
   "metadata": {
    "scrolled": true
   },
   "outputs": [
    {
     "name": "stdout",
     "output_type": "stream",
     "text": [
      "Time to sleep for 61 sec...\n",
      "Submitted file: 1/43\n",
      "Submitted file: 2/43\n",
      "Submitted file: 3/43\n",
      "Submitted file: 4/43\n",
      "Submitted file: 5/43\n",
      "Submitted file: 6/43\n",
      "Submitted file: 7/43\n",
      "Submitted file: 8/43\n",
      "Submitted file: 9/43\n",
      "Submitted file: 10/43\n",
      "Submitted file: 11/43\n",
      "Submitted file: 12/43\n",
      "Submitted file: 13/43\n",
      "Submitted file: 14/43\n",
      "Submitted file: 15/43\n",
      "Submitted file: 16/43\n",
      "Submitted file: 17/43\n",
      "Submitted file: 18/43\n",
      "Submitted file: 19/43\n",
      "Submitted file: 20/43\n",
      "Submitted file: 21/43\n",
      "Submitted file: 22/43\n",
      "Submitted file: 23/43\n",
      "Submitted file: 24/43\n",
      "Submitted file: 25/43\n",
      "Submitted file: 26/43\n",
      "Submitted file: 27/43\n",
      "Submitted file: 28/43\n",
      "Submitted file: 29/43\n",
      "Submitted file: 30/43\n",
      "Submitted file: 31/43\n",
      "Submitted file: 32/43\n",
      "Submitted file: 33/43\n",
      "Submitted file: 34/43\n",
      "Submitted file: 35/43\n",
      "Submitted file: 36/43\n",
      "Submitted file: 37/43\n",
      "Submitted file: 38/43\n",
      "Submitted file: 39/43\n",
      "Submitted file: 40/43\n",
      "Submitted file: 41/43\n",
      "Submitted file: 42/43\n",
      "Submitted file: 43/43\n",
      "\n",
      "END of Submission.\n"
     ]
    },
    {
     "data": {
      "text/plain": [
       "[{'class': 'Gefahrenstelle', 'confidence': 0.23941961},\n",
       " {'class': 'Ende des Überholverbotes für Kraftfahrzeuge mit einer zulässigen Gesamtmasse über 3,5t',\n",
       "  'confidence': 0.01768792},\n",
       " {'class': 'Kurve (links)', 'confidence': 0.01768792},\n",
       " {'class': 'Verbot der Einfahrt', 'confidence': 0.01768792},\n",
       " {'class': 'Verbot für Kraftfahrzeuge mit einer zulässigen Gesamtmasse von 3,5t',\n",
       "  'confidence': 0.01768792}]"
      ]
     },
     "execution_count": 8,
     "metadata": {},
     "output_type": "execute_result"
    }
   ],
   "source": [
    "method = \"GA_100\"\n",
    "underlying_model = \"Alexnet\"\n",
    "input_folder = \"generated/Target_Confidence_100/\"\n",
    "shape = 64\n",
    "min_confidence = 0.90\n",
    "\n",
    "submit_images_from_directory(input_folder, \"\", shape, min_confidence)"
   ]
  },
  {
   "cell_type": "code",
   "execution_count": 9,
   "metadata": {},
   "outputs": [
    {
     "name": "stdout",
     "output_type": "stream",
     "text": [
      "END Gradient Ascent TC 100 Alexnet\n"
     ]
    }
   ],
   "source": [
    "print(\"END Gradient Ascent TC 100 \" + underlying_model)"
   ]
  },
  {
   "cell_type": "code",
   "execution_count": 10,
   "metadata": {
    "scrolled": true
   },
   "outputs": [
    {
     "name": "stdout",
     "output_type": "stream",
     "text": [
      "Time to sleep for 61 sec...\n",
      "Submitted file: 1/43\n",
      "Submitted file: 2/43\n",
      "Submitted file: 3/43\n",
      "Submitted file: 4/43\n",
      "Submitted file: 5/43\n",
      "Submitted file: 6/43\n",
      "Submitted file: 7/43\n",
      "Submitted file: 8/43\n",
      "Submitted file: 9/43\n",
      "Submitted file: 10/43\n",
      "Submitted file: 11/43\n",
      "Submitted file: 12/43\n",
      "Submitted file: 13/43\n",
      "Submitted file: 14/43\n",
      "Submitted file: 15/43\n",
      "Submitted file: 16/43\n",
      "Submitted file: 17/43\n",
      "Submitted file: 18/43\n",
      "Submitted file: 19/43\n",
      "Submitted file: 20/43\n",
      "Submitted file: 21/43\n",
      "Submitted file: 22/43\n",
      "Submitted file: 23/43\n",
      "Submitted file: 24/43\n",
      "Submitted file: 25/43\n",
      "Submitted file: 26/43\n",
      "Submitted file: 27/43\n",
      "Submitted file: 28/43\n",
      "Submitted file: 29/43\n",
      "Submitted file: 30/43\n",
      "Submitted file: 31/43\n",
      "Submitted file: 32/43\n",
      "Submitted file: 33/43\n",
      "Submitted file: 34/43\n",
      "Submitted file: 35/43\n",
      "Submitted file: 36/43\n",
      "Submitted file: 37/43\n",
      "Submitted file: 38/43\n",
      "Submitted file: 39/43\n",
      "Submitted file: 40/43\n",
      "Submitted file: 41/43\n",
      "Submitted file: 42/43\n",
      "Submitted file: 43/43\n",
      "\n",
      "END of Submission.\n"
     ]
    },
    {
     "data": {
      "text/plain": [
       "[{'class': 'Gefahrenstelle', 'confidence': 0.08031172},\n",
       " {'class': 'Wildwechsel', 'confidence': 0.06988996},\n",
       " {'class': 'Baustelle', 'confidence': 0.03214405},\n",
       " {'class': 'Rechts vorbei', 'confidence': 0.02420756},\n",
       " {'class': 'Verbot der Einfahrt', 'confidence': 0.01983617}]"
      ]
     },
     "execution_count": 10,
     "metadata": {},
     "output_type": "execute_result"
    }
   ],
   "source": [
    "method = \"GA_99\"\n",
    "underlying_model = \"Alexnet\"\n",
    "input_folder = \"generated/Target_Confidence_99/\"\n",
    "shape = 64\n",
    "min_confidence = 0.90\n",
    "\n",
    "submit_images_from_directory(input_folder, \"\", shape, min_confidence)"
   ]
  },
  {
   "cell_type": "code",
   "execution_count": 11,
   "metadata": {},
   "outputs": [
    {
     "name": "stdout",
     "output_type": "stream",
     "text": [
      "END Gradient Ascent TC 99 Alexnet\n"
     ]
    }
   ],
   "source": [
    "print(\"END Gradient Ascent TC 99 \" + underlying_model)"
   ]
  },
  {
   "cell_type": "code",
   "execution_count": null,
   "metadata": {},
   "outputs": [],
   "source": []
  },
  {
   "cell_type": "code",
   "execution_count": null,
   "metadata": {},
   "outputs": [],
   "source": []
  }
 ],
 "metadata": {
  "kernelspec": {
   "display_name": "Python 3",
   "language": "python",
   "name": "python3"
  },
  "language_info": {
   "codemirror_mode": {
    "name": "ipython",
    "version": 3
   },
   "file_extension": ".py",
   "mimetype": "text/x-python",
   "name": "python",
   "nbconvert_exporter": "python",
   "pygments_lexer": "ipython3",
   "version": "3.6.7"
  }
 },
 "nbformat": 4,
 "nbformat_minor": 2
}
