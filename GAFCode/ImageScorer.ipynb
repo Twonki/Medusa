{
 "cells": [
  {
   "cell_type": "markdown",
   "metadata": {},
   "source": [
    "# Image Scorer\n",
    "This notebook contains only functions to submit images to the trasi-webinterface and scores them. \n",
    "\n",
    "The images need to be around in a given folder. The results will be printed into a .csv-file"
   ]
  },
  {
   "cell_type": "code",
   "execution_count": 1,
   "metadata": {},
   "outputs": [],
   "source": [
    "import requests\n",
    "import json\n",
    "from scipy import misc as scipyMisc\n",
    "\n",
    "import os\n",
    "\n",
    "import PIL.Image\n",
    "import numpy as np\n",
    "import datetime\n",
    "import time\n",
    "\n",
    "#Trasi Credentials\n",
    "url = 'https://phinau.de/trasi'\n",
    "credentials = {'key': 'ehiefoveingereim3ooD2vo8reeb9ooz'}"
   ]
  },
  {
   "cell_type": "code",
   "execution_count": 2,
   "metadata": {},
   "outputs": [],
   "source": [
    "# This method submits a single image to the trasi-webinterface and returns the highest class-score-pair\n",
    "def submit_single_image(filepath):\n",
    "    filename = filepath\n",
    "    file_to_upload = {'image': open(filename,'rb')}\n",
    "    pimg_bytes = open(filename,'rb')\n",
    "    file_to_upload = {'image': pimg_bytes}\n",
    "    \n",
    "    post_request = requests.post(url, files=file_to_upload, data=credentials)\n",
    "    if post_request.status_code == 200:\n",
    "        post = post_request.text\n",
    "        # post_request.text # For Debugging\n",
    "\n",
    "        trasi_score = json.loads(post)\n",
    "        _class = trasi_score[0].get('class')\n",
    "        _confidence = trasi_score[0].get('confidence')\n",
    "        trasi_resp = \"Filename:\" + filename + \";Class:\" + str(_class) + \";Confidence:\" + str(_confidence) + \"\\n\"\n",
    "        print(trasi_resp)\n",
    "    else:\n",
    "        print(\"HTTP-Statuscode: \" + post_request.status_code)   \n",
    "    return trasi_score\n",
    "\n",
    "# this method submits every image in a given folder\n",
    "# writes the results to two csv-files (one for every result, one for \"good\" ones)\n",
    "# The CSV Header is the following: DateTime;Filename;Trasi-Class;Trasi-Confidence\n",
    "# Every 60 Images there will be a short timeout. \n",
    "def submit_images_from_directory(input_folder, model_filepath, shape, min_confidence): \n",
    "    # one file for all result\n",
    "    with open(\"######Trasi-Submission-results_\" + method + \"_\" + underlying_model + \".txt\", \"a\") as myfile:\n",
    "        myfile.write(\"DateTime;Filename;Trasi-Class;Trasi-Confidence\" + \"\\n\")\n",
    "    # one file for good results only\n",
    "    with open(\"######Trasi-Submission-results-greater-than-\" + str(min_confidence) + \"_\" + method + \"_\" + underlying_model + \".txt\", \"a\") as myfile:\n",
    "        myfile.write(\"DateTime;Filename;Trasi-Class;Trasi-Confidence\" + \"\\n\")\n",
    "    counter = 0\n",
    "\n",
    "    for file in os.listdir(input_folder):\n",
    "        #Timeout because of trasi-limitations\n",
    "        if counter % 60 == 0:\n",
    "            print(\"Time to sleep for 61 sec...\")\n",
    "            time.sleep(61)\n",
    "        \n",
    "        filename = os.path.join(input_folder, file)\n",
    "        file_to_upload = {'image': open(filename,'rb')}  \n",
    "        \n",
    "        post_request = requests.post(url, files=file_to_upload, data=credentials)\n",
    "        if post_request.status_code == 200:\n",
    "            post = post_request.text\n",
    "            trasi_score = json.loads(post)\n",
    "            \n",
    "            _class = trasi_score[0].get('class')\n",
    "            _confidence = trasi_score[0].get('confidence')\n",
    "            trasi_resp = filename + \";\" + str(_class) + \";\" + str(_confidence)\n",
    "            #print(trasi_resp) # For Debugging\n",
    "            with open(\"######Trasi-Submission-results_\" + method + \"_\" + underlying_model + \".txt\", \"a\") as myfile:\n",
    "                myfile.write(str(datetime.datetime.now()) + \";\" + trasi_resp + \"\\n\")\n",
    "            if _confidence >= 0.90:\n",
    "                with open(\"######Trasi-Submission-results-greater-than-\" + str(min_confidence) + \"_\" + method + \"_\" + underlying_model + \".txt\", \"a\") as myfile:\n",
    "                    myfile.write(str(datetime.datetime.now()) + \";\" + trasi_resp + \"\\n\")\n",
    "        else:\n",
    "            print(\"HTTP-Statuscode: \" + str(post_request.status_code))\n",
    "        \n",
    "        counter += 1\n",
    "        print(\"Submitted file: \" + str(counter) + \"/\" + str(len(os.listdir(input_folder))))\n",
    "        \n",
    "    print(\"\\nEND of Submission.\")\n",
    "    return trasi_score"
   ]
  },
  {
   "cell_type": "markdown",
   "metadata": {},
   "source": [
    "### Results\n",
    "Here we just use the notebook to score our results."
   ]
  },
  {
   "cell_type": "code",
   "execution_count": 8,
   "metadata": {
    "scrolled": true
   },
   "outputs": [
    {
     "name": "stdout",
     "output_type": "stream",
     "text": [
      "Time to sleep for 61 sec...\n",
      "Submitted file: 1/43\n",
      "Submitted file: 2/43\n",
      "Submitted file: 3/43\n",
      "Submitted file: 4/43\n",
      "Submitted file: 5/43\n",
      "Submitted file: 6/43\n",
      "Submitted file: 7/43\n",
      "Submitted file: 8/43\n",
      "Submitted file: 9/43\n",
      "Submitted file: 10/43\n",
      "Submitted file: 11/43\n",
      "Submitted file: 12/43\n",
      "Submitted file: 13/43\n",
      "Submitted file: 14/43\n",
      "Submitted file: 15/43\n",
      "Submitted file: 16/43\n",
      "Submitted file: 17/43\n",
      "Submitted file: 18/43\n",
      "Submitted file: 19/43\n",
      "Submitted file: 20/43\n",
      "Submitted file: 21/43\n",
      "Submitted file: 22/43\n",
      "Submitted file: 23/43\n",
      "Submitted file: 24/43\n",
      "Submitted file: 25/43\n",
      "Submitted file: 26/43\n",
      "Submitted file: 27/43\n",
      "Submitted file: 28/43\n",
      "Submitted file: 29/43\n",
      "Submitted file: 30/43\n",
      "Submitted file: 31/43\n",
      "Submitted file: 32/43\n",
      "Submitted file: 33/43\n",
      "Submitted file: 34/43\n",
      "Submitted file: 35/43\n",
      "Submitted file: 36/43\n",
      "Submitted file: 37/43\n",
      "Submitted file: 38/43\n",
      "Submitted file: 39/43\n",
      "Submitted file: 40/43\n",
      "Submitted file: 41/43\n",
      "Submitted file: 42/43\n",
      "Submitted file: 43/43\n",
      "\n",
      "END of Submission.\n"
     ]
    },
    {
     "data": {
      "text/plain": [
       "[{'class': 'Gefahrenstelle', 'confidence': 0.23941961},\n",
       " {'class': 'Ende des Überholverbotes für Kraftfahrzeuge mit einer zulässigen Gesamtmasse über 3,5t',\n",
       "  'confidence': 0.01768792},\n",
       " {'class': 'Kurve (links)', 'confidence': 0.01768792},\n",
       " {'class': 'Verbot der Einfahrt', 'confidence': 0.01768792},\n",
       " {'class': 'Verbot für Kraftfahrzeuge mit einer zulässigen Gesamtmasse von 3,5t',\n",
       "  'confidence': 0.01768792}]"
      ]
     },
     "execution_count": 8,
     "metadata": {},
     "output_type": "execute_result"
    }
   ],
   "source": [
    "method = \"GA_100\"\n",
    "underlying_model = \"Alexnet\"\n",
    "input_folder = \"generated/Target_Confidence_100/\"\n",
    "shape = 64\n",
    "min_confidence = 0.90\n",
    "\n",
    "submit_images_from_directory(input_folder, \"\", shape, min_confidence)"
   ]
  },
  {
   "cell_type": "code",
   "execution_count": 10,
   "metadata": {
    "scrolled": true
   },
   "outputs": [
    {
     "name": "stdout",
     "output_type": "stream",
     "text": [
      "Time to sleep for 61 sec...\n",
      "Submitted file: 1/43\n",
      "Submitted file: 2/43\n",
      "Submitted file: 3/43\n",
      "Submitted file: 4/43\n",
      "Submitted file: 5/43\n",
      "Submitted file: 6/43\n",
      "Submitted file: 7/43\n",
      "Submitted file: 8/43\n",
      "Submitted file: 9/43\n",
      "Submitted file: 10/43\n",
      "Submitted file: 11/43\n",
      "Submitted file: 12/43\n",
      "Submitted file: 13/43\n",
      "Submitted file: 14/43\n",
      "Submitted file: 15/43\n",
      "Submitted file: 16/43\n",
      "Submitted file: 17/43\n",
      "Submitted file: 18/43\n",
      "Submitted file: 19/43\n",
      "Submitted file: 20/43\n",
      "Submitted file: 21/43\n",
      "Submitted file: 22/43\n",
      "Submitted file: 23/43\n",
      "Submitted file: 24/43\n",
      "Submitted file: 25/43\n",
      "Submitted file: 26/43\n",
      "Submitted file: 27/43\n",
      "Submitted file: 28/43\n",
      "Submitted file: 29/43\n",
      "Submitted file: 30/43\n",
      "Submitted file: 31/43\n",
      "Submitted file: 32/43\n",
      "Submitted file: 33/43\n",
      "Submitted file: 34/43\n",
      "Submitted file: 35/43\n",
      "Submitted file: 36/43\n",
      "Submitted file: 37/43\n",
      "Submitted file: 38/43\n",
      "Submitted file: 39/43\n",
      "Submitted file: 40/43\n",
      "Submitted file: 41/43\n",
      "Submitted file: 42/43\n",
      "Submitted file: 43/43\n",
      "\n",
      "END of Submission.\n"
     ]
    },
    {
     "data": {
      "text/plain": [
       "[{'class': 'Gefahrenstelle', 'confidence': 0.08031172},\n",
       " {'class': 'Wildwechsel', 'confidence': 0.06988996},\n",
       " {'class': 'Baustelle', 'confidence': 0.03214405},\n",
       " {'class': 'Rechts vorbei', 'confidence': 0.02420756},\n",
       " {'class': 'Verbot der Einfahrt', 'confidence': 0.01983617}]"
      ]
     },
     "execution_count": 10,
     "metadata": {},
     "output_type": "execute_result"
    }
   ],
   "source": [
    "method = \"GA_99\"\n",
    "underlying_model = \"Alexnet\"\n",
    "input_folder = \"generated/Target_Confidence_99/\"\n",
    "shape = 64\n",
    "min_confidence = 0.90\n",
    "\n",
    "submit_images_from_directory(input_folder, \"\", shape, min_confidence)"
   ]
  }
 ],
 "metadata": {
  "kernelspec": {
   "display_name": "Python 3",
   "language": "python",
   "name": "python3"
  },
  "language_info": {
   "codemirror_mode": {
    "name": "ipython",
    "version": 3
   },
   "file_extension": ".py",
   "mimetype": "text/x-python",
   "name": "python",
   "nbconvert_exporter": "python",
   "pygments_lexer": "ipython3",
   "version": "3.6.7"
  }
 },
 "nbformat": 4,
 "nbformat_minor": 2
}
