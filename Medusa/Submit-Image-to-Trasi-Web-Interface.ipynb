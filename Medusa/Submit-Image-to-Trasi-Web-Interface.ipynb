{
 "cells": [
  {
   "cell_type": "code",
   "execution_count": 1,
   "metadata": {},
   "outputs": [],
   "source": [
    "import requests"
   ]
  },
  {
   "cell_type": "code",
   "execution_count": 2,
   "metadata": {},
   "outputs": [],
   "source": [
    "# URL for GET- or POST-Request\n",
    "url = 'https://phinau.de/trasi'\n",
    "\n",
    "# API-Key\n",
    "access_key = 'ehiefoveingereim3ooD2vo8reeb9ooz'\n",
    "\n",
    "# Name of file (root of jupyter notebook)\n",
    "filename = 'Gefahrenstelle.png'\n",
    "\n",
    "# Key-Value pair: API-Key\n",
    "credentials = {'key': access_key}\n",
    "\n",
    "# Key-Value pair: Image to test against neural network\n",
    "file_to_upload = {'image': open(filename,'rb')}"
   ]
  },
  {
   "cell_type": "code",
   "execution_count": 3,
   "metadata": {},
   "outputs": [
    {
     "data": {
      "text/plain": [
       "200"
      ]
     },
     "execution_count": 3,
     "metadata": {},
     "output_type": "execute_result"
    }
   ],
   "source": [
    "# Send GET-Request to specified URL\n",
    "get_request = requests.get(url)\n",
    "\n",
    "# Get Status Code of the sent GET-Request\n",
    "get_request.status_code"
   ]
  },
  {
   "cell_type": "code",
   "execution_count": 4,
   "metadata": {},
   "outputs": [
    {
     "data": {
      "text/plain": [
       "'<!DOCTYPE html>\\n<html lang=\"en\">\\n<head>\\n    <base href=\"https://phinau.de/trasi/\"/>\\n    <meta charset=\"UTF-8\">\\n    <title>Trasi</title>\\n    <link rel=\"stylesheet\" href=\"css/trasi.css\" media=\"screen\">\\n</head>\\n<body>\\n<form method=\"post\" enctype=\"multipart/form-data\">\\n    <div class=\"box\">\\n        <div class=\"header\">Trasi Web Interface</div>\\n        <div class=\"contents\">\\n            <table>\\n                <tr>\\n                    <td><label for=\"key\">Key</label></td>\\n                    <td><input type=\"text\" name=\"key\"/></td>\\n                </tr>\\n                <tr>\\n                    <td><label for=\"key\">Image</label></td>\\n                    <td><input type=\"file\" name=\"image\"/></td>\\n                </tr>\\n                <tr>\\n                    <td colspan=\"2\">\\n                        <input type=\"submit\" value=\"Classify\"/>\\n                        <input type=\"reset\" value=\"Reset\"/>\\n                    </td>\\n                </tr>\\n            </table>\\n        </div>\\n    </div>\\n</form>\\n</body>\\n</html>'"
      ]
     },
     "execution_count": 4,
     "metadata": {},
     "output_type": "execute_result"
    }
   ],
   "source": [
    "# Print out the Text to the GET-Request\n",
    "get_request.text"
   ]
  },
  {
   "cell_type": "code",
   "execution_count": 5,
   "metadata": {},
   "outputs": [
    {
     "data": {
      "text/plain": [
       "200"
      ]
     },
     "execution_count": 5,
     "metadata": {},
     "output_type": "execute_result"
    }
   ],
   "source": [
    "# Send POST-Request to specified URL with API-Key and an Image\n",
    "post_request = requests.post(url, files=file_to_upload, data=credentials)\n",
    "\n",
    "# Get Status Code to the sent POST-Request\n",
    "post_request.status_code"
   ]
  },
  {
   "cell_type": "code",
   "execution_count": 6,
   "metadata": {},
   "outputs": [
    {
     "data": {
      "text/plain": [
       "'[{\"class\":\"Gefahrenstelle\",\"confidence\":0.99035394},{\"class\":\"Zulässige Höchstgeschwindigkeit (70)\",\"confidence\":0.00065309},{\"class\":\"Fußgänger\",\"confidence\":0.00057611},{\"class\":\"Rechts vorbei\",\"confidence\":0.00032977},{\"class\":\"Einmalige Vorfahrt\",\"confidence\":0.00026544}]\\n'"
      ]
     },
     "execution_count": 6,
     "metadata": {},
     "output_type": "execute_result"
    }
   ],
   "source": [
    "# Print out the Text to the POST-Request\n",
    "post_request.text"
   ]
  },
  {
   "cell_type": "code",
   "execution_count": null,
   "metadata": {},
   "outputs": [],
   "source": []
  },
  {
   "cell_type": "code",
   "execution_count": null,
   "metadata": {},
   "outputs": [],
   "source": []
  }
 ],
 "metadata": {
  "kernelspec": {
   "display_name": "Python 3",
   "language": "python",
   "name": "python3"
  },
  "language_info": {
   "codemirror_mode": {
    "name": "ipython",
    "version": 3
   },
   "file_extension": ".py",
   "mimetype": "text/x-python",
   "name": "python",
   "nbconvert_exporter": "python",
   "pygments_lexer": "ipython3",
   "version": "3.6.6"
  }
 },
 "nbformat": 4,
 "nbformat_minor": 2
}
